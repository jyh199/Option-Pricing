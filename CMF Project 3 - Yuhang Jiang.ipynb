{
 "cells": [
  {
   "cell_type": "code",
   "execution_count": 1,
   "id": "cc304ff8",
   "metadata": {},
   "outputs": [],
   "source": [
    "import math\n",
    "import numpy as np\n",
    "import pandas as pd\n",
    "import seaborn as sns\n",
    "import matplotlib.pyplot as plt\n",
    "import warnings\n",
    "warnings.filterwarnings(\"ignore\")"
   ]
  },
  {
   "cell_type": "markdown",
   "id": "9de5b3cd",
   "metadata": {},
   "source": [
    "# Question 1"
   ]
  },
  {
   "cell_type": "markdown",
   "id": "1645fa53",
   "metadata": {},
   "source": [
    "$$ Y_{t+\\delta t}-Y_t=(\\frac{2Y_t}{1+t}+\\frac{1+t^3}{3})\\delta t+\\frac{1+t^3}{3}N(0,\\delta t)$$\n",
    "\n",
    "$$ X_{t+\\delta t}-X_t=(\\frac{1}{5}-\\frac{1}{2}X_t)\\delta t+\\frac{2N(0,\\delta t)}{3}$$"
   ]
  },
  {
   "cell_type": "code",
   "execution_count": 2,
   "id": "d5f3a278",
   "metadata": {},
   "outputs": [],
   "source": [
    "# simulate Y\n",
    "def sim_Y(Y0,m,T):\n",
    "    # m: the number of small periods in T\n",
    "    Y = Y0\n",
    "    for i in range(0,m):\n",
    "        Y = Y + (2*Y/(1+i*(T/m))+(1+(i*(T/m))**3)/3)*(T/m) +\\\n",
    "            (1+(i*(T/m))**3)/3 * np.sqrt(T/m) * np.random.normal(0,1,1)\n",
    "    return Y[0]\n",
    "\n",
    "# Y2\n",
    "Y2 = []\n",
    "for i in range(0,1000):\n",
    "    Y2.append(sim_Y(3/4,1000,2))\n",
    "\n",
    "# P(Y2>5)\n",
    "Y2_5 = filter(lambda x:x>5, Y2)\n",
    "p1 = len(list(Y2_5))/len(Y2)"
   ]
  },
  {
   "cell_type": "code",
   "execution_count": 3,
   "id": "1dd46fc8",
   "metadata": {},
   "outputs": [],
   "source": [
    "# simulate X\n",
    "def sim_X(X0,m,T):\n",
    "    # m: the number of small periods in T\n",
    "    X = X0\n",
    "    for i in range(0,m):\n",
    "        X = X + (1/5-0.5*X)*(T/m) +\\\n",
    "            (2/3) * np.sqrt(T/m) * np.random.normal(0,1,1)\n",
    "    return X[0]\n",
    "\n",
    "# X2^(1/3)\n",
    "X2 = []\n",
    "X2_3 = []\n",
    "for i in range(0,1000):\n",
    "    X2.append(sim_X(1,1000,2))\n",
    "    if X2[i] >= 0:\n",
    "        X2_3.append(X2[i]**(1/3))\n",
    "    else:\n",
    "        # python can't handle the root of negative numbers\n",
    "        X2_3.append(-1*abs(X2[i])**(1/3))\n",
    "\n",
    "e1 = np.mean(X2_3)"
   ]
  },
  {
   "cell_type": "code",
   "execution_count": 4,
   "id": "91bd1152",
   "metadata": {},
   "outputs": [],
   "source": [
    "# Y3\n",
    "Y3 = []\n",
    "for i in range(0,1000):\n",
    "    Y3.append(sim_Y(3/4,1000,3))\n",
    "e2 = np.mean(Y3)"
   ]
  },
  {
   "cell_type": "code",
   "execution_count": 5,
   "id": "5a7dc19a",
   "metadata": {},
   "outputs": [],
   "source": [
    "# X2*Y2\n",
    "X2 = np.array(X2)\n",
    "Y2 = np.array(Y2)\n",
    "tran_X2 = np.where((X2)>1,1,0)\n",
    "X2Y2 = X2 * Y2 * tran_X2\n",
    "e3 = np.mean(X2Y2)"
   ]
  },
  {
   "cell_type": "code",
   "execution_count": 6,
   "id": "61667dcb",
   "metadata": {},
   "outputs": [
    {
     "name": "stdout",
     "output_type": "stream",
     "text": [
      "p1:\n",
      "0.976\n",
      "\n",
      "e1:\n",
      "0.6699279547912925\n",
      "\n",
      "e2:\n",
      "26.04905525353944\n",
      "\n",
      "e3:\n",
      "3.8168777727833523\n",
      "\n"
     ]
    }
   ],
   "source": [
    "print('p1:',str(p1)+'\\n',\n",
    "      'e1:',str(e1)+'\\n',\n",
    "      'e2:',str(e2)+'\\n',\n",
    "      'e3:',str(e3)+'\\n',sep=\"\\n\")"
   ]
  },
  {
   "cell_type": "markdown",
   "id": "dbf68157",
   "metadata": {},
   "source": [
    "# Question 2"
   ]
  },
  {
   "cell_type": "markdown",
   "id": "1ddb152f",
   "metadata": {},
   "source": [
    "$$ X_{t+\\delta t}-X_t=\\frac{X_t\\delta t}{4}+\\frac{X_tN_1(0,\\delta t)}{3}-\\frac{3X_tN_2(0,\\delta t)}{4}$$"
   ]
  },
  {
   "cell_type": "code",
   "execution_count": 7,
   "id": "0c517119",
   "metadata": {},
   "outputs": [],
   "source": [
    "# simulate X\n",
    "def sim_X_2(X0,m,T):\n",
    "    # m: the number of small periods in T\n",
    "    X = X0\n",
    "    for i in range(0,m):\n",
    "        X = X + X*(T/m)/4 + (X/3)*np.random.normal(0,np.sqrt(T/m),1)\\\n",
    "            - (3/4)*X*np.random.normal(0,np.sqrt(T/m),1)\n",
    "    return X[0]\n",
    "\n",
    "# (1+X3)^(1/3)\n",
    "X3 = []\n",
    "X3_3 = []\n",
    "for i in range(0,1000):\n",
    "    X3.append(sim_X_2(1,1000,3))\n",
    "    if 1+X3[i] >= 0:\n",
    "        X3_3.append((1+X3[i])**(1/3))\n",
    "    else:\n",
    "        X3_3.append(-1*abs(1+X3[i])**(1/3))\n",
    "\n",
    "e1 = np.mean(X3_3)"
   ]
  },
  {
   "cell_type": "code",
   "execution_count": 8,
   "id": "155a09d4",
   "metadata": {},
   "outputs": [],
   "source": [
    "# simulate X1,Y1\n",
    "X1 = []\n",
    "for i in range(0,1000):\n",
    "    X1.append(sim_X_2(1,1000,1))\n",
    "\n",
    "Ny1 = np.random.normal(0,1,1000)\n",
    "Ny2 = np.random.normal(0,1,1000)\n",
    "Y1 = np.exp(-0.08 + (1/3)*Ny1 + (3/4)*Ny2)\n",
    "\n",
    "X1 = np.array(X1)\n",
    "e2 = np.mean(X1*Y1)"
   ]
  },
  {
   "cell_type": "code",
   "execution_count": 9,
   "id": "07e747f5",
   "metadata": {},
   "outputs": [
    {
     "name": "stdout",
     "output_type": "stream",
     "text": [
      "e1:\n",
      "1.340889870083981\n",
      "\n",
      "e2:\n",
      "1.614101656703645\n",
      "\n"
     ]
    }
   ],
   "source": [
    "print('e1:',str(e1)+'\\n',\n",
    "      'e2:',str(e2)+'\\n',sep=\"\\n\")"
   ]
  },
  {
   "cell_type": "markdown",
   "id": "912fb98a",
   "metadata": {},
   "source": [
    "# Question 3"
   ]
  },
  {
   "cell_type": "markdown",
   "id": "79ae87d7",
   "metadata": {},
   "source": [
    "## (a) "
   ]
  },
  {
   "cell_type": "markdown",
   "id": "f0e5b4b9",
   "metadata": {},
   "source": [
    "$$ S_{t+dt} - S_t = rS_tdt + \\sigma S_t\\sqrt{dt}Z(0,1)$$"
   ]
  },
  {
   "cell_type": "code",
   "execution_count": 10,
   "id": "4ee9c0fc",
   "metadata": {},
   "outputs": [
    {
     "name": "stdout",
     "output_type": "stream",
     "text": [
      "Monte Carlo simulation price (S0=20): 1.5844442656958069\n"
     ]
    }
   ],
   "source": [
    "# Monte Carlo simulation\n",
    "def MT_call(S0,T,X,r,sigma,dt):\n",
    "    \n",
    "    # stock price at maturity\n",
    "    def ST(S0,T,X,r,sigma,dt):\n",
    "        wt = np.random.normal(0,np.sqrt(dt),round(T/dt))\n",
    "        S = S0\n",
    "        S_new = S0\n",
    "        for i in range(0,round(T/dt)):\n",
    "            S = S + r*S*dt + sigma*S*wt[i]\n",
    "            S_new = S_new + r*S_new*dt + sigma*S_new*wt[i]*(-1)\n",
    "        return S,S_new\n",
    "    \n",
    "    # simulate 10000 possible S(T)\n",
    "    ST_mc = []\n",
    "    ST_dv = [] # variance reduction terms\n",
    "    for i in range(0,10000):\n",
    "        ST_mc.append(ST(S0,T,X,r,sigma,dt)[0])\n",
    "        ST_dv.append(ST(S0,T,X,r,sigma,dt)[1]) \n",
    "\n",
    "    # pay off\n",
    "    payoff = []\n",
    "    for i in range(0,10000):\n",
    "        payoff.append((max(ST_dv[i]-X,0)+max(ST_mc[i]-X,0))/2)\n",
    "        \n",
    "    # discounting\n",
    "    mt_p = np.mean(payoff) * np.exp(-1*r*T)\n",
    "    return mt_p\n",
    "\n",
    "mc_price = MT_call(20,0.5,20,0.04,0.25,0.004)\n",
    "print('Monte Carlo simulation price (S0=20):', str(mc_price))"
   ]
  },
  {
   "cell_type": "markdown",
   "id": "5e728057",
   "metadata": {},
   "source": [
    "## (b) "
   ]
  },
  {
   "cell_type": "code",
   "execution_count": 11,
   "id": "9735e16f",
   "metadata": {},
   "outputs": [],
   "source": [
    "# standard normal distribution CDF\n",
    "def NX(x):\n",
    "    d1 = 0.0498673470\n",
    "    d2 = 0.0211410061\n",
    "    d3 = 0.0032776263\n",
    "    d4 = 0.0000380036\n",
    "    d5 = 0.0000488906\n",
    "    d6 = 0.0000053830\n",
    "    if x > 0:\n",
    "        N_x = 1 - 0.5*((1+d1*x+d2*(x**2)+d3*(x**3)+\\\n",
    "                        d4*(x**4)+d5*(x**5)+d6*(x**6))**(-16))\n",
    "    else:\n",
    "        N_x = 0.5*((1+d1*(-1*x)+d2*((-1*x)**2)+d3*((-1*x)**3)+\\\n",
    "                    d4*((-1*x)**4)+d5*((-1*x)**5)+d6*((-1*x)**6))**(-16))\n",
    "    return N_x"
   ]
  },
  {
   "cell_type": "code",
   "execution_count": 12,
   "id": "bb690dad",
   "metadata": {},
   "outputs": [
    {
     "name": "stdout",
     "output_type": "stream",
     "text": [
      "Black-Scholes price (S0=20): 1.6016002500234343\n"
     ]
    }
   ],
   "source": [
    "# BS model\n",
    "def BS_call(S0,X,T,r,sigma):\n",
    "    D1 = (np.log(S0/X) + (r + (0.5*sigma**2))*T)/(sigma*np.sqrt(T))\n",
    "    D2 = (np.log(S0/X) + (r - (0.5*sigma**2))*T)/(sigma * np.sqrt(T))\n",
    "    bs_p = S0 * NX(D1) - X * np.exp(-r*T) * NX(D2)\n",
    "    return bs_p\n",
    "\n",
    "bs_price = BS_call(20,20,0.5,0.04,0.25)\n",
    "print('Black-Scholes price (S0=20):', str(bs_price))"
   ]
  },
  {
   "cell_type": "markdown",
   "id": "2784a236",
   "metadata": {},
   "source": [
    "## (c)"
   ]
  },
  {
   "cell_type": "code",
   "execution_count": 14,
   "id": "a90d8eac",
   "metadata": {},
   "outputs": [
    {
     "data": {
      "image/png": "[encoded data removed]",
      "text/plain": [
       "<Figure size 432x288 with 1 Axes>"
      ]
     },
     "metadata": {
      "needs_background": "light"
     },
     "output_type": "display_data"
    }
   ],
   "source": [
    "# Delta\n",
    "def delta(S0,T,X,r,sigma,dt,e):\n",
    "    sim_delta = (MT_call(S0+e,T,X,r,sigma,dt) -\\\n",
    "                 MT_call(S0-e,T,X,r,sigma,dt))/(2*e)\n",
    "    return sim_delta\n",
    "\n",
    "Delta = []\n",
    "for i in range(15,26):\n",
    "    Delta.append(delta(i,0.5,20,0.04,0.25,0.004,0.5))\n",
    "    \n",
    "plt.figure()\n",
    "plt.plot(range(15,26),Delta)\n",
    "plt.title('Delta')\n",
    "plt.show()"
   ]
  },
  {
   "cell_type": "code",
   "execution_count": 15,
   "id": "cee17959",
   "metadata": {},
   "outputs": [
    {
     "data": {
      "image/png": "[encoded data removed]",
      "text/plain": [
       "<Figure size 432x288 with 1 Axes>"
      ]
     },
     "metadata": {
      "needs_background": "light"
     },
     "output_type": "display_data"
    }
   ],
   "source": [
    "# Gamma\n",
    "def gamma(S0,T,X,r,sigma,dt,e):\n",
    "    sim_gamma = (delta(S0+e,T,X,r,sigma,dt,e) -\\\n",
    "                 delta(S0-e,T,X,r,sigma,dt,e))/(2*e)\n",
    "    return sim_gamma\n",
    "\n",
    "Gamma = []\n",
    "for i in range(15,26):\n",
    "    Gamma.append(gamma(i,0.5,20,0.04,0.25,0.004,0.5))\n",
    "    \n",
    "plt.figure()\n",
    "plt.plot(range(15,26),Gamma)\n",
    "plt.title('Gamma')\n",
    "plt.show()"
   ]
  },
  {
   "cell_type": "code",
   "execution_count": 16,
   "id": "76c27007",
   "metadata": {},
   "outputs": [
    {
     "data": {
      "image/png": "[encoded data removed]",
      "text/plain": [
       "<Figure size 432x288 with 1 Axes>"
      ]
     },
     "metadata": {
      "needs_background": "light"
     },
     "output_type": "display_data"
    }
   ],
   "source": [
    "# Theta\n",
    "def theta(S0,T,X,r,sigma,dt,e):\n",
    "    sim_theta = (MT_call(S0,T+e,X,r,sigma,dt) -\\\n",
    "                 MT_call(S0,T-e,X,r,sigma,dt))/(2*e)\n",
    "    return sim_theta\n",
    "\n",
    "Theta = []\n",
    "for i in range(15,26):\n",
    "    Theta.append(theta(i,0.5,20,0.04,0.25,0.004,0.05))\n",
    "    \n",
    "plt.figure()\n",
    "plt.plot(range(15,26),Theta)\n",
    "plt.title('Theta')\n",
    "plt.show()"
   ]
  },
  {
   "cell_type": "code",
   "execution_count": 17,
   "id": "ca5eb73d",
   "metadata": {},
   "outputs": [
    {
     "data": {
      "image/png": "[encoded data removed]",
      "text/plain": [
       "<Figure size 432x288 with 1 Axes>"
      ]
     },
     "metadata": {
      "needs_background": "light"
     },
     "output_type": "display_data"
    }
   ],
   "source": [
    "# Vega\n",
    "def vega(S0,T,X,r,sigma,dt,e):\n",
    "    sim_vega = (MT_call(S0,T,X,r,sigma+e,dt) -\\\n",
    "                MT_call(S0,T,X,r,sigma-e,dt))/(2*e)\n",
    "    return sim_vega\n",
    "\n",
    "Vega = []\n",
    "for i in range(15,26):\n",
    "    Vega.append(vega(i,0.5,20,0.04,0.25,0.004,0.05))\n",
    "    \n",
    "plt.figure()\n",
    "plt.plot(range(15,26),Vega)\n",
    "plt.title('Vega')\n",
    "plt.show()"
   ]
  },
  {
   "cell_type": "markdown",
   "id": "991d7477",
   "metadata": {},
   "source": [
    "# Question 4"
   ]
  },
  {
   "cell_type": "markdown",
   "id": "a48767cc",
   "metadata": {},
   "source": [
    "$$ S_{t+dt} = S_t + rS_tdt + \\sqrt{V_t}S_t\\sqrt{dt}Z_t^1(0,1) $$\n",
    "\n",
    "$$ V_{t+dt} = V_t + \\alpha(\\beta - V_t)dt + \\sigma\\sqrt{V_t}\\sqrt{dt}(\\rho Z_t^1(0,1)+\\sqrt{1-\\rho^2}Z_t^2(0,1)$$"
   ]
  },
  {
   "cell_type": "code",
   "execution_count": 18,
   "id": "29853ccd",
   "metadata": {},
   "outputs": [],
   "source": [
    "# Full Truncation\n",
    "def ST_Full(S0,V0,r,dt,T,alpha,beta,sigma,rho):\n",
    "    S = S0\n",
    "    V = V0\n",
    "    for i in range(0,round(T/dt)):\n",
    "        z1 = np.random.normal(0,1,1)\n",
    "        z2 = np.random.normal(0,1,1)\n",
    "        S = S + r*S*dt + np.sqrt(max(0,V)*dt)*S*z1\n",
    "        V = V + alpha*(beta-max(0,V))*dt +\\\n",
    "            sigma*np.sqrt(max(0,V)*dt)*(rho*z1+np.sqrt(1-rho**2)*z2)\n",
    "    return S"
   ]
  },
  {
   "cell_type": "code",
   "execution_count": 19,
   "id": "a6f7e2ad",
   "metadata": {},
   "outputs": [],
   "source": [
    "# Partial Truncation\n",
    "def ST_Part(S0,V0,r,dt,T,alpha,beta,sigma,rho):\n",
    "    S = S0\n",
    "    V = V0\n",
    "    for i in range(0,round(T/dt)):\n",
    "        z1 = np.random.normal(0,1,1)\n",
    "        z2 = np.random.normal(0,1,1)\n",
    "        S = S + r*S*dt + np.sqrt(max(0,V)*dt)*S*z1\n",
    "        V = V + alpha*(beta-V)*dt +\\\n",
    "            sigma*np.sqrt(max(0,V)*dt)*(rho*z1+np.sqrt(1-rho**2)*z2)\n",
    "    return S"
   ]
  },
  {
   "cell_type": "code",
   "execution_count": 20,
   "id": "02a46188",
   "metadata": {},
   "outputs": [],
   "source": [
    "# Reflection methods\n",
    "def ST_Ref(S0,V0,r,dt,T,alpha,beta,sigma,rho):\n",
    "    S = S0\n",
    "    V = V0\n",
    "    for i in range(0,round(T/dt)):\n",
    "        z1 = np.random.normal(0,1,1)\n",
    "        z2 = np.random.normal(0,1,1)\n",
    "        S = S + r*S*dt + np.sqrt(abs(V)*dt)*S*z1\n",
    "        V = abs(V) + alpha*(beta-abs(V))*dt +\\\n",
    "            sigma*np.sqrt(abs(V)*dt)*(rho*z1+np.sqrt(1-rho**2)*z2)\n",
    "    return S"
   ]
  },
  {
   "cell_type": "code",
   "execution_count": 21,
   "id": "2b54700b",
   "metadata": {},
   "outputs": [],
   "source": [
    "# simulate S(T), set dt = 0.04, T =1\n",
    "full = []\n",
    "pf1 = []\n",
    "part = []\n",
    "pf2 = []\n",
    "ref = []\n",
    "pf3 = []\n",
    "K = 50 # strike price\n",
    "for i in range(0,10000):\n",
    "    full.append(ST_Full(48,0.05,0.03,0.04,0.5,5.8,0.0625,0.42,-0.6))\n",
    "    pf1.append(max(full[i]-K,0))\n",
    "    part.append(ST_Part(48,0.05,0.03,0.04,0.5,5.8,0.0625,0.42,-0.6))\n",
    "    pf2.append(max(part[i]-K,0))\n",
    "    ref.append(ST_Ref(48,0.05,0.03,0.04,0.5,5.8,0.0625,0.42,-0.6))\n",
    "    pf3.append(max(ref[i]-K,0))"
   ]
  },
  {
   "cell_type": "code",
   "execution_count": 22,
   "id": "a39c6b77",
   "metadata": {},
   "outputs": [
    {
     "name": "stdout",
     "output_type": "stream",
     "text": [
      "Monte Carlo simulation price (T=0.5,K=50)\n",
      "\n",
      "Full Truncation:\n",
      "2.488901373692355\n",
      "\n",
      "Partial Truncation:\n",
      "2.4967237804983844\n",
      "\n",
      "Reflection methods:\n",
      "2.4473786244370634\n"
     ]
    }
   ],
   "source": [
    "# calculate price\n",
    "p_full = np.mean(pf1) * np.exp(-1*0.03*1)\n",
    "p_part = np.mean(pf2) * np.exp(-1*0.03*1)\n",
    "p_ref = np.mean(pf3) * np.exp(-1*0.03*1)\n",
    "\n",
    "print('Monte Carlo simulation price (T=0.5,K=50)'+'\\n',\n",
    "      'Full Truncation:',str(p_full[0])+'\\n',\n",
    "      'Partial Truncation:',str(p_part[0])+'\\n',\n",
    "      'Reflection methods:',str(p_ref[0]),sep=\"\\n\")"
   ]
  },
  {
   "cell_type": "markdown",
   "id": "d3de5f65",
   "metadata": {},
   "source": [
    "# Question 5"
   ]
  },
  {
   "cell_type": "markdown",
   "id": "6a126e86",
   "metadata": {},
   "source": [
    "## (a) "
   ]
  },
  {
   "cell_type": "code",
   "execution_count": 23,
   "id": "f12e121e",
   "metadata": {},
   "outputs": [],
   "source": [
    "# uniform distribution\n",
    "def lgm_uniform(n,x0):\n",
    "    \n",
    "    m = (2**31)-1\n",
    "    a = 7**5\n",
    "    b = 0\n",
    "    lgm0 = [] # original random numbers\n",
    "    lgm0.append(x0) # set x_0 \n",
    "    lgm = [] # random numbers in [0,1]\n",
    "    lgm.append(1/m)\n",
    "    for i in range(1,n):\n",
    "        lgm0.append((a*lgm0[i-1]+b) % m)\n",
    "        lgm.append(lgm0[i]/m)\n",
    "        \n",
    "    return lgm\n",
    "\n",
    "u1 = lgm_uniform(100,0.5)\n",
    "u2 = lgm_uniform(100,0.8)\n",
    "u = pd.DataFrame({'u1':u1,'u2':u2})"
   ]
  },
  {
   "cell_type": "markdown",
   "id": "272b356a",
   "metadata": {},
   "source": [
    "## (b) "
   ]
  },
  {
   "cell_type": "code",
   "execution_count": 24,
   "id": "52cfd812",
   "metadata": {},
   "outputs": [],
   "source": [
    "def van_der_corput(n_sample, base=2):\n",
    "    sequence = []\n",
    "    for i in range(n_sample):\n",
    "        n_th_number, denom = 0., 1.\n",
    "        while i > 0:\n",
    "            i, remainder = divmod(i, base)\n",
    "            denom *= base\n",
    "            n_th_number += remainder / denom\n",
    "        sequence.append(n_th_number)\n",
    "    return sequence\n",
    "\n",
    "def halton(dim, n_sample, base):\n",
    "    sample = [van_der_corput(n_sample + 1, dim) for dim in base]\n",
    "    sample = np.stack(sample, axis=-1)[1:]\n",
    "    return sample"
   ]
  },
  {
   "cell_type": "code",
   "execution_count": 25,
   "id": "c944daa6",
   "metadata": {},
   "outputs": [],
   "source": [
    "hal_27 = pd.DataFrame(halton(2, 100, [2,7]))\n",
    "hal_27.columns = '2','7'"
   ]
  },
  {
   "cell_type": "markdown",
   "id": "896bb066",
   "metadata": {},
   "source": [
    "## (c) "
   ]
  },
  {
   "cell_type": "code",
   "execution_count": 26,
   "id": "0a308f9b",
   "metadata": {},
   "outputs": [],
   "source": [
    "hal_24 = pd.DataFrame(halton(2, 100, [2,4]))\n",
    "hal_24.columns = '2','4'"
   ]
  },
  {
   "cell_type": "markdown",
   "id": "3a600c83",
   "metadata": {},
   "source": [
    "## (d) "
   ]
  },
  {
   "cell_type": "code",
   "execution_count": 39,
   "id": "035d246c",
   "metadata": {},
   "outputs": [
    {
     "data": {
      "image/png": "[encoded data removed]",
      "text/plain": [
       "<Figure size 2880x720 with 3 Axes>"
      ]
     },
     "metadata": {
      "needs_background": "light"
     },
     "output_type": "display_data"
    }
   ],
   "source": [
    "plt.figure(figsize=(40,10))\n",
    "plt.figure(1)\n",
    "\n",
    "fig1 = plt.subplot(1,3,1)\n",
    "fig1 = sns.scatterplot(x=u['u1'], y=u['u2'])\n",
    "fig1.set(xlabel=\"U1\", ylabel=\"U2\", \n",
    "         title = 'Uniform distributions')\n",
    "\n",
    "fig2 = plt.subplot(1,3,2)\n",
    "fig2 = sns.scatterplot(x=hal_27['2'], y=hal_27['7'])\n",
    "fig2.set(xlabel=\"base = 2\", ylabel=\"base = 7\",\n",
    "         title = 'Halton sequences base = 2 & 7')\n",
    "\n",
    "fig3 = plt.subplot(1,3,3)\n",
    "fig3 = sns.scatterplot(x=hal_24['2'], y=hal_24['4'])\n",
    "fig3.set(xlabel=\"base = 2\", ylabel=\"base = 4\",\n",
    "         title = 'Halton sequences base = 2 & 4')\n",
    "\n",
    "plt.show()"
   ]
  },
  {
   "cell_type": "markdown",
   "id": "af15d6ae",
   "metadata": {},
   "source": [
    "According to the output, the Halton sequences based on 2&4 seems to cluster within some areas and are not randomly distributed in [-1,1]. While Halton sequences based on 2&7 and U1&U2 seem pretty uniform and Halton sequences are even better."
   ]
  },
  {
   "cell_type": "markdown",
   "id": "31b3c010",
   "metadata": {},
   "source": [
    "## (e) "
   ]
  },
  {
   "cell_type": "code",
   "execution_count": 28,
   "id": "0be298d1",
   "metadata": {},
   "outputs": [],
   "source": [
    "hal2457 = pd.DataFrame(halton(4, 10000, [2,4,5,7]))\n",
    "hal2457.columns = '2','4','5','7'\n",
    "hal2 = hal2457['2']\n",
    "hal4 = hal2457['4']\n",
    "hal5 = hal2457['5']\n",
    "hal7 = hal2457['7']"
   ]
  },
  {
   "cell_type": "code",
   "execution_count": 29,
   "id": "a8636885",
   "metadata": {},
   "outputs": [],
   "source": [
    "# 2,4\n",
    "I1 = []\n",
    "for i in range(0,10000):\n",
    "    if math.cos(2*math.pi*hal4[i]) >= 0:\n",
    "        a = 1\n",
    "    else:\n",
    "        a = -1\n",
    "    I1.append(np.exp(-1*hal2[i]*hal4[i]) *\\\n",
    "              (math.sin(6*math.pi*hal2[i])+\\\n",
    "               a*abs(math.cos(2*math.pi*hal4[i]))**(1/3)))"
   ]
  },
  {
   "cell_type": "code",
   "execution_count": 30,
   "id": "ef061a5d",
   "metadata": {},
   "outputs": [],
   "source": [
    "# 2,7\n",
    "I2 = []\n",
    "for i in range(0,10000):\n",
    "    if math.cos(2*math.pi*hal7[i]) >= 0:\n",
    "        a = 1\n",
    "    else:\n",
    "        a = -1\n",
    "    I2.append(np.exp(-1*hal2[i]*hal7[i]) *\\\n",
    "              (math.sin(6*math.pi*hal2[i])+\\\n",
    "               a*abs(math.cos(2*math.pi*hal7[i]))**(1/3)))"
   ]
  },
  {
   "cell_type": "code",
   "execution_count": 31,
   "id": "bb35018d",
   "metadata": {},
   "outputs": [],
   "source": [
    "# 5,7\n",
    "I3 = []\n",
    "for i in range(0,10000):\n",
    "    if math.cos(2*math.pi*hal7[i]) >= 0:\n",
    "        a = 1\n",
    "    else:\n",
    "        a = -1\n",
    "    I3.append(np.exp(-1*hal5[i]*hal7[i]) *\\\n",
    "              (math.sin(6*math.pi*hal5[i])+\\\n",
    "               a*abs(math.cos(2*math.pi*hal7[i]))**(1/3)))"
   ]
  },
  {
   "cell_type": "code",
   "execution_count": 32,
   "id": "3956e700",
   "metadata": {},
   "outputs": [
    {
     "name": "stdout",
     "output_type": "stream",
     "text": [
      "(2,4):\n",
      "-0.004883898297003375\n",
      "\n",
      "(2,7):\n",
      "0.02611439677274074\n",
      "\n",
      "(5,7):\n",
      "0.02616365953051207\n"
     ]
    }
   ],
   "source": [
    "print('(2,4):',str(np.mean(I1))+'\\n',\n",
    "      '(2,7):',str(np.mean(I2))+'\\n',\n",
    "      '(5,7):',str(np.mean(I3)),sep=\"\\n\")"
   ]
  }
 ],
 "metadata": {
  "kernelspec": {
   "display_name": "Python 3",
   "language": "python",
   "name": "python3"
  },
  "language_info": {
   "codemirror_mode": {
    "name": "ipython",
    "version": 3
   },
   "file_extension": ".py",
   "mimetype": "text/x-python",
   "name": "python",
   "nbconvert_exporter": "python",
   "pygments_lexer": "ipython3",
   "version": "3.8.8"
  }
 },
 "nbformat": 4,
 "nbformat_minor": 5
}
